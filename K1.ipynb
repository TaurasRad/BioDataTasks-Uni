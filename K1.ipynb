{
 "cells": [
  {
   "cell_type": "markdown",
   "id": "8957a7f4",
   "metadata": {},
   "source": [
    "# Bioduomenų analizė ir surinkimas\n",
    "\n",
    "## Kolis Nr.1 2022-09-27\n",
    "\n",
    "Sprendimus siųskite (vardas_pavarde_k1.ipynb; ipynb ir pdf/html formatais)\n",
    "iki 2022-10-02 23:55 į avoicikas@gmail.com"
   ]
  },
  {
   "cell_type": "markdown",
   "id": "2060f3ae",
   "metadata": {},
   "source": [
    "Įveskite savo vardą ir pavardę"
   ]
  },
  {
   "cell_type": "raw",
   "id": "3f36051f",
   "metadata": {},
   "source": [
    "Tauras Radzevicius"
   ]
  },
  {
   "cell_type": "markdown",
   "id": "221d9490",
   "metadata": {},
   "source": [
    "Vertinimas\n",
    "\n",
    "- Komentarai (veiksmų planas ir kodo paaiškinimas) 25 %\n",
    "- Programos kodas 25 %\n",
    "- Rezultatas 50 % (interpretavimas, išvados, trūkumai, diskusija)"
   ]
  },
  {
   "cell_type": "code",
   "execution_count": 1,
   "id": "f34be358",
   "metadata": {},
   "outputs": [
    {
     "data": {
      "image/jpeg": "[encoded data removed]",
      "text/html": [
       "\n",
       "        <iframe\n",
       "            width=\"400\"\n",
       "            height=\"200\"\n",
       "            src=\"https://www.youtube.com/embed/hMloyp6NI4E?fs=1&autoplay=0\"\n",
       "            frameborder=\"0\"\n",
       "            allowfullscreen\n",
       "            \n",
       "        ></iframe>\n",
       "        "
      ],
      "text/plain": [
       "<IPython.lib.display.YouTubeVideo at 0x1a9b7682ee0>"
      ]
     },
     "execution_count": 1,
     "metadata": {},
     "output_type": "execute_result"
    }
   ],
   "source": [
    "from IPython.display import YouTubeVideo\n",
    "video = YouTubeVideo(id='hMloyp6NI4E', width=400, height=200, fs=1, autoplay=0)\n",
    "video"
   ]
  },
  {
   "cell_type": "markdown",
   "id": "a3a6a3fd",
   "metadata": {},
   "source": [
    "---\n",
    ">> **1. UŽDUOTIS**\n",
    ">>\n",
    ">> - Indeksavimas\n",
    ">>\n",
    "\n",
    "---\n",
    "\n",
    "## a) Gauti elementus iš sąrašo"
   ]
  },
  {
   "cell_type": "code",
   "execution_count": 2,
   "id": "6a7af85f",
   "metadata": {},
   "outputs": [
    {
     "data": {
      "text/plain": [
       "[(['99ba999', ('3', ['3', '3t'], 88)], 'sa', {'abc': 42})]"
      ]
     },
     "execution_count": 2,
     "metadata": {},
     "output_type": "execute_result"
    }
   ],
   "source": [
    "sarasas1 = [(['99ba999', ('3', ['3', '3t'], 88)],'sa', {'abc':42})]\n",
    "sarasas1"
   ]
  },
  {
   "cell_type": "markdown",
   "id": "3b845503",
   "metadata": {},
   "source": [
    "### 3t"
   ]
  },
  {
   "cell_type": "code",
   "execution_count": 9,
   "id": "c1de520a",
   "metadata": {},
   "outputs": [
    {
     "data": {
      "text/plain": [
       "'3t'"
      ]
     },
     "execution_count": 9,
     "metadata": {},
     "output_type": "execute_result"
    }
   ],
   "source": [
    "sarasas1[0][0][1][-2][1]"
   ]
  },
  {
   "cell_type": "markdown",
   "id": "bd53d58e",
   "metadata": {},
   "source": [
    "### 42"
   ]
  },
  {
   "cell_type": "code",
   "execution_count": 24,
   "id": "d2ea3aab",
   "metadata": {},
   "outputs": [
    {
     "data": {
      "text/plain": [
       "42"
      ]
     },
     "execution_count": 24,
     "metadata": {},
     "output_type": "execute_result"
    }
   ],
   "source": [
    "sarasas1[0][-1][\"abc\"]"
   ]
  },
  {
   "cell_type": "markdown",
   "id": "9e62c3c1",
   "metadata": {},
   "source": [
    "### abc"
   ]
  },
  {
   "cell_type": "code",
   "execution_count": 104,
   "id": "02e89c7a",
   "metadata": {},
   "outputs": [
    {
     "name": "stdout",
     "output_type": "stream",
     "text": [
      "abc\n"
     ]
    }
   ],
   "source": [
    "diktantas=sarasas1[0][-1]\n",
    "print(list(diktantas.keys())[0])\n"
   ]
  },
  {
   "cell_type": "markdown",
   "id": "ce8f9a89",
   "metadata": {},
   "source": [
    "### 33t"
   ]
  },
  {
   "cell_type": "code",
   "execution_count": 28,
   "id": "bc1533f0",
   "metadata": {},
   "outputs": [
    {
     "data": {
      "text/plain": [
       "'33t'"
      ]
     },
     "execution_count": 28,
     "metadata": {},
     "output_type": "execute_result"
    }
   ],
   "source": [
    "sarasas1[0][0][1][-2][0] + sarasas1[0][0][1][-2][1]"
   ]
  },
  {
   "cell_type": "markdown",
   "id": "747223fe",
   "metadata": {},
   "source": [
    "### 999"
   ]
  },
  {
   "cell_type": "code",
   "execution_count": 32,
   "id": "3e95726e",
   "metadata": {},
   "outputs": [
    {
     "data": {
      "text/plain": [
       "'999'"
      ]
     },
     "execution_count": 32,
     "metadata": {},
     "output_type": "execute_result"
    }
   ],
   "source": [
    "sarasas1[0][0][0][4:]"
   ]
  },
  {
   "cell_type": "markdown",
   "id": "5ed29da8",
   "metadata": {},
   "source": [
    "## b) Gauti elementus iš žodyno"
   ]
  },
  {
   "cell_type": "code",
   "execution_count": 62,
   "id": "b64e35cb",
   "metadata": {},
   "outputs": [
    {
     "data": {
      "text/plain": [
       "{'Pirmadienis': ['Bioinformatika', 'Genetikos pagrindai'],\n",
       " 'Antradienis': ['Tikimybių teorija ir matematinė statistika',\n",
       "  'Bioduomenų surinkimas ir analizė',\n",
       "  'Žmogaus ir gyvūnų fiziologija',\n",
       "  'Bioenergetika'],\n",
       " 'Trečiadienis': ['Imunologija',\n",
       "  'Žmogaus ir gyvūnų fiziologija',\n",
       "  'Tikimybių teorija ir matematinė statistika',\n",
       "  'Invazijų biologija'],\n",
       " 'Ketvirtadienis': ['Kiekybinė fluorescencinė mikroskopija',\n",
       "  'Žmogaus ir gyvūnų fiziologija',\n",
       "  'BUS'],\n",
       " 'Penktadienis': ['BUS'],\n",
       " 'Šeštadienis': ['Invazijų biologija'],\n",
       " 'Sekmadienis': []}"
      ]
     },
     "execution_count": 62,
     "metadata": {},
     "output_type": "execute_result"
    }
   ],
   "source": [
    "Zodynas = {\n",
    "            'Pirmadienis': ['Bioinformatika','Genetikos pagrindai'],\n",
    "            'Antradienis': [\"Tikimybių teorija ir matematinė statistika\", \"Bioduomenų surinkimas ir analizė\", \"Žmogaus ir gyvūnų fiziologija\", \"Bioenergetika\"],\n",
    "            'Trečiadienis': [\"Imunologija\",\"Žmogaus ir gyvūnų fiziologija\",\"Tikimybių teorija ir matematinė statistika\",\"Invazijų biologija\"],\n",
    "            'Ketvirtadienis': [\"Kiekybinė fluorescencinė mikroskopija\",\"Žmogaus ir gyvūnų fiziologija\",\"BUS\"],\n",
    "            'Penktadienis': [\"BUS\"],\n",
    "            'Šeštadienis': [\"Invazijų biologija\"],\n",
    "            'Sekmadienis': [],\n",
    "           }\n",
    "Zodynas"
   ]
  },
  {
   "cell_type": "markdown",
   "id": "233d5b78",
   "metadata": {},
   "source": [
    "### Genetikos pagrindai"
   ]
  },
  {
   "cell_type": "code",
   "execution_count": 78,
   "id": "6803357b",
   "metadata": {},
   "outputs": [
    {
     "data": {
      "text/plain": [
       "'Genetikos pagrindai'"
      ]
     },
     "execution_count": 78,
     "metadata": {},
     "output_type": "execute_result"
    }
   ],
   "source": [
    "Zodynas[\"Pirmadienis\"][1]"
   ]
  },
  {
   "cell_type": "markdown",
   "id": "616b48fb",
   "metadata": {},
   "source": [
    "### gaus ir gyv"
   ]
  },
  {
   "cell_type": "code",
   "execution_count": 74,
   "id": "440abbf9",
   "metadata": {},
   "outputs": [
    {
     "data": {
      "text/plain": [
       "'gaus ir gyv'"
      ]
     },
     "execution_count": 74,
     "metadata": {},
     "output_type": "execute_result"
    }
   ],
   "source": [
    "Zodynas[\"Antradienis\"][2][3:14]"
   ]
  },
  {
   "cell_type": "markdown",
   "id": "d9f610b6",
   "metadata": {},
   "source": [
    "### ['Pirmadienis', 'Antradienis', 'Trečiadienis', 'Ketvirtadienis', 'Penktadienis', 'Šeštadienis', 'Sekmadienis']"
   ]
  },
  {
   "cell_type": "code",
   "execution_count": 89,
   "id": "1d11b2f5",
   "metadata": {},
   "outputs": [
    {
     "name": "stdout",
     "output_type": "stream",
     "text": [
      "['Pirmadienis', 'Antradienis', 'Trečiadienis', 'Ketvirtadienis', 'Penktadienis', 'Šeštadienis', 'Sekmadienis']\n"
     ]
    }
   ],
   "source": [
    "print(list(Zodynas.keys()))"
   ]
  },
  {
   "cell_type": "markdown",
   "id": "6eedea62",
   "metadata": {},
   "source": [
    "### ketvirtadienis"
   ]
  },
  {
   "cell_type": "code",
   "execution_count": 77,
   "id": "3f9a5cbf",
   "metadata": {},
   "outputs": [
    {
     "data": {
      "text/plain": [
       "'Ketvirtadienis'"
      ]
     },
     "execution_count": 77,
     "metadata": {},
     "output_type": "execute_result"
    }
   ],
   "source": [
    "sarasas=list(Zodynas.keys())\n",
    "sarasas[3]"
   ]
  },
  {
   "cell_type": "markdown",
   "id": "36dfc17e",
   "metadata": {},
   "source": [
    "### BUS"
   ]
  },
  {
   "cell_type": "code",
   "execution_count": 80,
   "id": "7f625dca",
   "metadata": {},
   "outputs": [
    {
     "data": {
      "text/plain": [
       "'BUS'"
      ]
     },
     "execution_count": 80,
     "metadata": {},
     "output_type": "execute_result"
    }
   ],
   "source": [
    "Zodynas[\"Penktadienis\"][0]"
   ]
  },
  {
   "cell_type": "markdown",
   "id": "cb858c42",
   "metadata": {},
   "source": [
    "### Kiekybinė Žmogaus BUS"
   ]
  },
  {
   "cell_type": "code",
   "execution_count": 87,
   "id": "00a755d1",
   "metadata": {},
   "outputs": [
    {
     "data": {
      "text/plain": [
       "'Kiekybinė Žmogaus BUS'"
      ]
     },
     "execution_count": 87,
     "metadata": {},
     "output_type": "execute_result"
    }
   ],
   "source": [
    "Zodynas[\"Ketvirtadienis\"][0][0:10] +Zodynas[\"Ketvirtadienis\"][1][0:8] +Zodynas[\"Penktadienis\"][0] "
   ]
  },
  {
   "cell_type": "markdown",
   "id": "2378ee35",
   "metadata": {},
   "source": [
    "### PATKPŠS"
   ]
  },
  {
   "cell_type": "code",
   "execution_count": 102,
   "id": "ed60711c",
   "metadata": {},
   "outputs": [
    {
     "data": {
      "text/plain": [
       "'PATKPŠS'"
      ]
     },
     "execution_count": 102,
     "metadata": {},
     "output_type": "execute_result"
    }
   ],
   "source": [
    "list(Zodynas.keys())[0][0]+list(Zodynas.keys())[1][0]+list(Zodynas.keys())[2][0]+list(Zodynas.keys())[3][0]+list(Zodynas.keys())[4][0]+list(Zodynas.keys())[5][0]+list(Zodynas.keys())[6][0]"
   ]
  },
  {
   "cell_type": "markdown",
   "id": "93bd6170",
   "metadata": {},
   "source": [
    "### c) Sukurti žodyną kurio raktai `keys` skaičiai nuo 1 iki 10_000 reprezentuojantys metrus, o vertės `values` jų atitikmuo pėdomis (feet)."
   ]
  },
  {
   "cell_type": "code",
   "execution_count": 1,
   "id": "567b3cfb",
   "metadata": {},
   "outputs": [],
   "source": [
    "keys=list(range(10001))             #Planas: Sukurti Sarasa nuo vieno iki 10000 su range(), paversti ji i zodyna. \n",
    "def multiply(x):                    #Sukurti funkcija kuri padaugina is pedu koeficiento ir su ja panaudoti map() su originaliu 10000 sarasu.\n",
    "    return x*3.28084                #su zip() ir dict() paversti tuos du sarasus i zodyna su mums reikiamomis vertemis.\n",
    "values=list(map(multiply,keys))\n",
    "Zodynas=dict(zip(keys,values))\n",
    "#print(Zodynas)"
   ]
  },
  {
   "cell_type": "markdown",
   "id": "17f3e2ba",
   "metadata": {},
   "source": [
    "### d) Naudojant sąrašų metodus ir juose esančius elementus sujungti pateiktus sąrašus (sar1, sar2, sar3, sar4, sar5) ir gauti pateiktus atsakymus"
   ]
  },
  {
   "cell_type": "code",
   "execution_count": 2,
   "id": "e3ee5382",
   "metadata": {},
   "outputs": [],
   "source": [
    "sar1 = [False, True, 12, 'vienas', len]\n",
    "sar2 = [[9, 15], 44]\n",
    "sar3 = [10, 5, 91, 5, 2, 42, 8, 3, 5, 4, 9, 5, 45, 68, 3, 2, 48]\n",
    "sar4 = ['a', sum, 'B']\n",
    "sar5 = [0, 3, 5, 88, 94, 5, 21, 9, 5, 0, 0, 5, 6, 0, 0, 8, 5]"
   ]
  },
  {
   "cell_type": "code",
   "execution_count": 3,
   "id": "74eae074-3eed-40d2-8c42-e1e9bfe1811a",
   "metadata": {},
   "outputs": [
    {
     "name": "stdout",
     "output_type": "stream",
     "text": [
      "[False, True, 12, 'vienas', <built-in function len>, <built-in function sum>, [9, 15], 44]\n"
     ]
    }
   ],
   "source": [
    "sar1.append(sar4[1])\n",
    "sarasas=sar1+sar2\n",
    "print(sarasas)"
   ]
  },
  {
   "cell_type": "markdown",
   "id": "66383a34-e6ac-4240-9b24-bab5687e16fd",
   "metadata": {},
   "source": [
    "Out:"
   ]
  },
  {
   "cell_type": "raw",
   "id": "e7854f83-9cd5-4a6d-89ca-daba2b03293a",
   "metadata": {},
   "source": [
    "[False, True, 12, 'vienas', <built-in function len>, <built-in function sum>, [9, 15], 44]"
   ]
  },
  {
   "cell_type": "code",
   "execution_count": 4,
   "id": "0bd6f9cb",
   "metadata": {},
   "outputs": [
    {
     "data": {
      "text/plain": [
       "355"
      ]
     },
     "execution_count": 4,
     "metadata": {},
     "output_type": "execute_result"
    }
   ],
   "source": [
    "sum(sar3[:])"
   ]
  },
  {
   "cell_type": "markdown",
   "id": "683dd153",
   "metadata": {},
   "source": [
    "355 (suma sar3 elementų)"
   ]
  },
  {
   "cell_type": "code",
   "execution_count": 5,
   "id": "d5776498-7faa-49e5-8811-d2bd0224ec2f",
   "metadata": {},
   "outputs": [
    {
     "data": {
      "text/plain": [
       "{3, 5, 8, 9}"
      ]
     },
     "execution_count": 31,
     "metadata": {},
     "output_type": "execute_result"
    }
   ],
   "source": [
    "sorted(list(set(sar5).intersection(set(sar3))),reverse=True)"
   ]
  },
  {
   "cell_type": "markdown",
   "id": "ac16f9a5",
   "metadata": {},
   "source": [
    "[9, 8, 5, 3] bendri elementai sar5 ir sar3"
   ]
  },
  {
   "cell_type": "code",
   "execution_count": 36,
   "id": "94373599-6fdf-4e05-a29a-ecab2e289614",
   "metadata": {},
   "outputs": [
    {
     "data": {
      "text/plain": [
       "[0, 2, 4, 6, 10, 21, 42, 45, 48, 68, 88, 91, 94]"
      ]
     },
     "execution_count": 36,
     "metadata": {},
     "output_type": "execute_result"
    }
   ],
   "source": [
    "sorted(list(set(sar5).symmetric_difference(set(sar3))))"
   ]
  },
  {
   "cell_type": "markdown",
   "id": "1a7e6a81",
   "metadata": {},
   "source": [
    "- sar5 ir sar3 unikalius elementus\n",
    "\n",
    "[0, 2, 4, 6, 10, 21, 42, 45, 48, 68, 88, 91, 94]"
   ]
  },
  {
   "cell_type": "code",
   "execution_count": 38,
   "id": "689622f1-8cbc-42a3-b42a-9e66e549e111",
   "metadata": {},
   "outputs": [
    {
     "data": {
      "text/plain": [
       "'Atsiprasau pajudejau viena eilute zemyn netycia.'"
      ]
     },
     "execution_count": 38,
     "metadata": {},
     "output_type": "execute_result"
    }
   ],
   "source": [
    "\"Atsiprasau pajudejau viena eilute zemyn netycia.\""
   ]
  },
  {
   "cell_type": "markdown",
   "id": "698a438d",
   "metadata": {},
   "source": [
    "### e) Parašykite vieną, vienos eilutės `print` komandą kurios išeigoje gaunamas pavaizduotas tekstas\n",
    "\n",
    "a) Output:"
   ]
  },
  {
   "cell_type": "raw",
   "id": "9bf43831",
   "metadata": {
    "lines_to_next_cell": 0
   },
   "source": [
    "Parašykite\n",
    "  vieną, vienos eilutės `print`\\    komandą kurios išeigoje gaunamas \n",
    "šis tekstas"
   ]
  },
  {
   "cell_type": "code",
   "execution_count": 184,
   "id": "e966901c",
   "metadata": {
    "lines_to_next_cell": 2
   },
   "outputs": [
    {
     "name": "stdout",
     "output_type": "stream",
     "text": [
      "šis tekstas\n"
     ]
    }
   ],
   "source": [
    "print(\"šis tekstas\")"
   ]
  },
  {
   "cell_type": "markdown",
   "id": "935187be",
   "metadata": {},
   "source": [
    "b) Output:"
   ]
  },
  {
   "cell_type": "raw",
   "id": "ee87bd0c",
   "metadata": {
    "lines_to_next_cell": 0
   },
   "source": [
    "\\bArba\\ntoks\\\\{4*5}"
   ]
  },
  {
   "cell_type": "code",
   "execution_count": 189,
   "id": "c06587bd",
   "metadata": {
    "lines_to_next_cell": 2
   },
   "outputs": [
    {
     "name": "stdout",
     "output_type": "stream",
     "text": [
      "\\bArba\\ntoks\\\\{4*5}\n"
     ]
    }
   ],
   "source": [
    "print(r\"\\bArba\\ntoks\\\\{4*5}\")"
   ]
  },
  {
   "cell_type": "markdown",
   "id": "1a15a10c",
   "metadata": {},
   "source": [
    "---\n",
    ">> **2. UŽDUOTIS**\n",
    ">>\n",
    ">> - Parašyti funkcijas pateiktoms problemoms\n",
    ">> - Nenaudot išorinių pakuočių (galima naudoti [built-in](https://docs.python.org/3.6/library/functions.html) funkcijas\n",
    ">>   kaip sum, len, max, min ir pan)\n",
    ">> - Sugalvokite bent 4 papildomus įvesties atvejus\n",
    ">> - Aprašykite galimas programos problemas\n",
    ">>\n",
    "\n",
    "---\n",
    "\n",
    "## A)\n",
    "Viena iš dažniausių operacijų analizuojant bet kokius duomenis yra medianos skaičiavimas.\n",
    "Parašykite funkciją, kuri suskaičiuotų **medianą** masyve esančių verčių.\n",
    "\n",
    "Pvz:"
   ]
  },
  {
   "cell_type": "raw",
   "id": "fee851e8",
   "metadata": {
    "lines_to_next_cell": 0
   },
   "source": [
    "In: funkcija([1, 2, 2, 3, 4, 7, 9 ] )\n",
    "\n",
    "Out: 3"
   ]
  },
  {
   "cell_type": "code",
   "execution_count": null,
   "id": "da3e0930",
   "metadata": {},
   "outputs": [],
   "source": [
    "def fun1(x):\n",
    "    if len(x)/2 != round(len(x)/2):\n",
    "        print(\"Medianas yra\"+ x[round(len(x)/2)])\n",
    "    else:\n",
    "        print((x[int(len(x)/2)]+x[int(len(x)/2)+1])/2)\n",
    "    #Saraso vidurini elementa galime pasiekti\n",
    "    #1. Suskaiciave kiek yra elementu\n",
    "    #2. padaline is dvieju elementu kieki gautume vidurinio elemento indexa\n",
    "    #3 Jei gautas elemento indexas yra neapvalus -  naudojame round funkcija ir gauname teisinga mediano indexa\n",
    "    #4 Jei gautas elementas yra apvalus - sudedame to indexo nari su +1 indexo nariu ir gauname siu nariu sumos vidurki - gautas teisingas medianas\n",
    "    #Problemos - I funkcija reikia irasyt iskart sarasa - neapdarotu skirtingu tipo duomenu. Labai realu kad sia funkcija galima zymiai paprasciau padaryti su numpy."
   ]
  },
  {
   "cell_type": "code",
   "execution_count": 90,
   "id": "484914cc",
   "metadata": {},
   "outputs": [
    {
     "name": "stdout",
     "output_type": "stream",
     "text": [
      "5.5\n"
     ]
    }
   ],
   "source": [
    "fun1([1, 2, 4, 5, 6, 6])"
   ]
  },
  {
   "cell_type": "code",
   "execution_count": 89,
   "id": "ada63b77",
   "metadata": {
    "lines_to_next_cell": 2
   },
   "outputs": [
    {
     "name": "stdout",
     "output_type": "stream",
     "text": [
      "8.0\n"
     ]
    }
   ],
   "source": [
    "fun1([1, 2, 4, 5, 6, 6, 8, 8, 8, 10, 15, 16])\n"
   ]
  },
  {
   "cell_type": "markdown",
   "id": "1791008f",
   "metadata": {},
   "source": [
    "## B)\n",
    "Kita dažna operacija yra turimų verčių **rūšiavimas** į kategorijas.\n",
    "Parašykite funkciją, kuri suskirstytų masyvo vertes į kategorijas **skaičiai kurie dalinasi be liekanos a) iš 5 b) iš 4 d) iš 4 ir iš 5 c) kiti skaičiai**; suskirstytas vertes grąžintų žodyno pavidalu.\n",
    "\n",
    "Pvz:"
   ]
  },
  {
   "cell_type": "raw",
   "id": "b163f0cd",
   "metadata": {
    "lines_to_next_cell": 0
   },
   "source": [
    "In: a, b = funkcija([100, 2, 3, 4, 5, 3, 55])\n",
    "\n",
    "Out: {\"5\": [5, 55], \"4\": [4], \"4ir5\": [100], \"kiti\": [2, 3, 3]}"
   ]
  },
  {
   "cell_type": "code",
   "execution_count": 4,
   "id": "8917500b",
   "metadata": {},
   "outputs": [],
   "source": [
    "def funa(x):\n",
    "    list5=[]      #1. Sukuriame sarasus kiekvienai kategorijai i kurias rusiuosime - SVARBU! kad sarasas arba betkoks kintamasis butu sukurtas \n",
    "    list4=[]      #pries visokius for ir nested if funkcijas, treciame uzdavinyje ismokau kad po to to kintamojo kuri sukonstravai for ar nested if nebegali \n",
    "    list4ir5=[]   #paprastai istraukt naudoti pagrindiniame kode.\n",
    "    listKiti=[]\n",
    "    for n in x:                    #2.Naudojame For loopa kiekvienam ivesto saraso elementui. Kiekvienas saraso elementas praeina keturias if\\elif salygas\n",
    "        if n % 5==0 and n % 4==0:  # SVARBU! pirma if funkcija kuria turi praeiti sitame kode turi buti ta su daugiausia salygu, nes kitaip - jei pavyzdziui\n",
    "            list4ir5.append(n)     # if n % 5==0 and n % 4==0: butu paskutine elif salyga, joks elementas nebutu \"atnestas\" iki jos. Nes if salygos:n % 5 ==0: \n",
    "        elif n % 5 ==0:            # ir n % 4==0: butu susirinkusios visus elementus i savo sarasus.\n",
    "            list5.append(n)        #3.Kiekviena IF salyga atitinka viena kategorijos parametrus ir tesiog su list.append() funkcija juos pildo.\n",
    "        elif  n % 4==0:\n",
    "            list4.append(n)\n",
    "        else :\n",
    "            listKiti.append(n)\n",
    "    listKeys=[\"5\", \"4\", \"4ir5\", \"kiti\"] #4. Sukuriu sarasa su busimais zodyno raktais.\n",
    "    listValues=[list5, list4, list4ir5, listKiti] #5.Sukuriu Sarasa is musu isrusiuotu sarasu, kurie bus musu zodyno vertes.\n",
    "    rezultatas=dict(zip(listKeys,listValues)) #6. Naudodamas dar pirmoje uzduotyje apibudinta zip() funkcija ir dict() sukuriame rezultato sarasa.\n",
    "    return print(rezultatas)\n",
    "    "
   ]
  },
  {
   "cell_type": "code",
   "execution_count": 6,
   "id": "962b2e6e",
   "metadata": {},
   "outputs": [
    {
     "name": "stdout",
     "output_type": "stream",
     "text": [
      "{'5': [5, 65], '4': [24], '4ir5': [20, 80], 'kiti': [6]}\n"
     ]
    }
   ],
   "source": [
    "funa([5, 6, 20, 80, 65, 24])"
   ]
  },
  {
   "cell_type": "code",
   "execution_count": 5,
   "id": "8ea9d42e",
   "metadata": {
    "lines_to_next_cell": 2
   },
   "outputs": [
    {
     "name": "stdout",
     "output_type": "stream",
     "text": [
      "{'5': [5, 55], '4': [4], '4ir5': [100], 'kiti': [2, 3, 3]}\n"
     ]
    }
   ],
   "source": [
    "funa([100, 2, 3, 4, 5, 3, 55])"
   ]
  },
  {
   "cell_type": "markdown",
   "id": "8e87d534",
   "metadata": {
    "tags": []
   },
   "source": [
    "## C)\n",
    "Excel stulpeliai automatiškai gauna vardus:\n",
    "\n",
    "- A -> 1\n",
    "- B -> 2\n",
    "- C -> 3\n",
    "- ...\n",
    "- Z -> 26\n",
    "- AA -> 27\n",
    "- AB -> 28\n",
    "- ...\n",
    "- ZY -> 701\n",
    "\n",
    "Parašykite programą kuri davus raidžių seką suskaičiuotų stulpelio numerį."
   ]
  },
  {
   "cell_type": "code",
   "execution_count": 29,
   "id": "89b3a611",
   "metadata": {},
   "outputs": [],
   "source": [
    "def funb(x):\n",
    "    x=str(x)\n",
    "    listA=list(range(28))\n",
    "    listB=[\"0\",\"A\", \"B\", \"C\", \"D\", \"E\", \"F\", \"G\", \"H\", \"I\", \"J\", \"K\", \"L\", \"M\", \"N\", \"O\", \"P\", \"Q\", \"R\", \"S\", \"T\", \"U\", \"V\", \"W\", \"X\", \"Y\", \"Z\"]\n",
    "    ZodynasReiksmiu=dict(zip(listB,listA))\n",
    "    #- Dariau tik su trim elementais inputo kaip  maksimaliu ilgiu nes Exceli baigiasi eilutes \"For MS Excel 2010, Row numbers ranges from 1 to 1048576; in total 1048576 rows, and Columns ranges from A to XFD; in total 16384 columns.\"\n",
    "    for n in x:\n",
    "        if len(x)==1:\n",
    "            return print(ZodynasReiksmiu[x])\n",
    "        elif len(x)==2:\n",
    "            return print(ZodynasReiksmiu[x[0]]*26 + ZodynasReiksmiu[x[1]])\n",
    "        elif len(x)==3:\n",
    "            return print(ZodynasReiksmiu[x[0]]*26*26 + ZodynasReiksmiu[x[1]]*26 + ZodynasReiksmiu[x[2]])\n",
    "        else: \n",
    "            return print(\"Per Didele Ivestis\")\n",
    "#Ilgos eilutes tai komentuosiu apacioje del lengvesnio iskaitomumo.\n",
    "#1. Ivesta funkcijos argumenta paverciu i stringa, kad butu galima lengvai computuot su veliau sukurtu abeceles simboliu sarasu.\n",
    "#2.Sukuriame du sarasus - ListA= vertes nuo 0 iki 27 ir atitinkantis ListB= angliskos abeceles raidziu sarasas su papildomai irasytu \"0\", kad A raide \n",
    "#sujungus siuos du sarasus i zodyna turetu (1) verte.\n",
    "#3.su zip() ir dict() funkcijomis sukonstruojam Zodyna Reiksmiu.\n",
    "#4. Kadangi maksimali argumento verte gali buti triju elementu ilgio Sukonstruojame 3 if salygas: 1. Jei argumentas vieno elemento ilgio - elementariai panaudoti argumenta kaip rakta zodyne ir taip nurodyti teisinga ivesties verte.\n",
    "# --2. Jei argumentas dvieju elementu ilgio: Surandame pirmo argumento elemento verte, naudodami ReiksmiuZodyna ir padauginame *26 prie tos vertes pridedame antro elemento verte- gauta panaudojus elementa kaip rakta zodyne.\n",
    "#---3. Lygiai ta pacia logika gauname ir triju elementu ilgio argumento vertes. Tesiog pirmo elemento verte padauginame *26*26, antro *26 ir paskutinio gauname su zodynu.\n",
    "#5.Gauname teisinga atsakyma. \n",
    "#PROBLEMOS! JEI ARGUMENTO IVESTIS BUTU VIRS 3 ELEMENTU FUNKCIJA NEVEIKTU, GANETINAI NEUNIVERSALI PROGRAMA - PRITAIKYTA TIK EXCELIUI."
   ]
  },
  {
   "cell_type": "code",
   "execution_count": 31,
   "id": "8469fe16",
   "metadata": {},
   "outputs": [
    {
     "name": "stdout",
     "output_type": "stream",
     "text": [
      "675\n"
     ]
    }
   ],
   "source": [
    "funb(\"YY\")"
   ]
  },
  {
   "cell_type": "markdown",
   "id": "6e324c99",
   "metadata": {},
   "source": [
    "## D)\n",
    "Vienu metu galime nešti vieną arba du daiktus. Parašykite programą, kuri surastų keliais skirtingais būdais galime pernešti N daiktų?\n",
    "\n",
    "Pvz:"
   ]
  },
  {
   "cell_type": "raw",
   "id": "406df85c",
   "metadata": {
    "lines_to_next_cell": 0
   },
   "source": [
    "In: n = 2\n",
    "Out: 2\n",
    "\n",
    "1. 1 + 1\n",
    "2. 2\n",
    "\n",
    "In: n = 3\n",
    "Out: 3\n",
    "\n",
    "1. 1 + 1 + 1\n",
    "2. 1 + 2\n",
    "3. 2 + 1\n",
    "\n",
    "In: n = 4\n",
    "Out: 5\n",
    "\n",
    "1. 1 + 1 + 1 + 1\n",
    "2. 1 + 1 + 2\n",
    "3. 2 + 2\n",
    "4. 2 + 1 + 1\n",
    "5. 1 + 2 + 1"
   ]
  },
  {
   "cell_type": "code",
   "execution_count": 220,
   "id": "f74565da",
   "metadata": {},
   "outputs": [],
   "source": [
    "def func(n):\n",
    "    import math as mt\n",
    "    n=int(n)\n",
    "    r=2\n",
    "    if n=\n",
    "    Formule=(mt.factorial(n)/mt.factorial(n-n)\n",
    "    print(Formule).\n",
    "             \n",
    "# Labai atsiprašau bet neišmasčiau matematinės kombinatorikos dalies, o ne pačio programavimo."
   ]
  },
  {
   "cell_type": "code",
   "execution_count": 221,
   "id": "a0e065ea",
   "metadata": {
    "lines_to_next_cell": 2
   },
   "outputs": [
    {
     "name": "stdout",
     "output_type": "stream",
     "text": [
      "45.0\n"
     ]
    }
   ],
   "source": [
    "func(9)"
   ]
  },
  {
   "cell_type": "markdown",
   "id": "f92112bd",
   "metadata": {},
   "source": [
    "---\n",
    ">> **3. UŽDUOTIS**\n",
    ">>\n",
    ">> Dažnai gauname duomenis keistame pavidale ir norėdami juos importuoti\n",
    ">> darbui turime aprašyti importavimo funkciją.\n",
    ">>\n",
    ">> **1.** Sukurkite funkciją kuri **nuskaitytų** ir **išsaugotų** apdorotus duomenis pateiktus failuose:\n",
    ">>\n",
    ">> coords1.txt, coords4.txt coords3.txt coords2.txt\n",
    ">>\n",
    ">> Funkcijos išeigoje turi būti išskirti atskiruose kintamuosiuose elementai:\n",
    ">>\n",
    ">> - image: talpinantis nuskaitytus paveiksliukų pavadinimus\n",
    ">> - scale: talpinantis nuskaitytas skales\n",
    ">> - id: talpinantis eilės numerį\n",
    ">> - coord: talpinantis koordinates (2d sąrašai sąraše 5x10)\n",
    ">>\n",
    ">> **2.** Papildykite funkciją pridėdami galimybę importuoti tik dalį duomenų pagal pasirinktus ID (kiekviename faile ID  atspindi skirtingą paveiksliuką ir kinta nuo 0 iki 4)\n",
    ">>\n",
    ">> ---\n",
    ">> PVZ:\n",
    ">>\n",
    ">> results = funkcijos_vardas(id=[0, 2])\n",
    ">>\n",
    ">> `results` turės skales, paveiksliukų vardus ir koordinates tik iš 0 ir 2 ID atkarpų\n",
    ">>\n",
    ">>\n",
    "---"
   ]
  },
  {
   "cell_type": "code",
   "execution_count": 1,
   "id": "019c40ed",
   "metadata": {
    "tags": []
   },
   "outputs": [],
   "source": [
    "def funD(pav,ID):\n",
    "    #import numpy - Cia nenaudotas tik del komentaro apie reshape.\n",
    "    with open(pav, \"r\") as failas:                  #1.Atidarau norimo skenuoti faila, \"r\"-read formatu\n",
    "        lines =([row.rstrip() for row in failas])   #2.Naudodamas .rstrip funkcija !atsargai! - pasalinu visus tarpus ir kitokius \"trailing characters\"\n",
    "        image=[]                                    # kiekvienai atidaryto failo duomenu eiluteje ir padarau is tu duomenu sarasa - lines.\n",
    "        scale=[]                                    #3.Sukuriu tris tuscius image,scale ir id sarasus i kuriuos rusiuosime gaunamas vertes skenuojant atidaryta dokumenta.\n",
    "        iD=[]                                       #!!!! Labai daug laiko prasikankinau bandydamas istraukt siuos sarasus is for / nested if loopu -- labai svarbu sukurtu kintamaji bendram kodui ne ju viduje.\n",
    "        for string in lines:                        #4.Kiekviename lines saraso stringe ieskome reikiamu string verciu: rade tinkama kodo dali su funkcija append()\n",
    "             if 'IMAGE' in string:                  # papildome visa ta eilute atitinkama sarasa(siuo atveju image=[]) ir po to istriname ta visa eilute is lines saraso.                                             \n",
    "                image.append(string)                #5. Pakartojame ketvirta zingsni su \"IMAGE\",\"SCALE\" ir \"ID\".\n",
    "                lines.remove(string)                #6.Pabaigoje siu ciklu turime turet visa dokumenta nuskenuota ir atitinkamus sarasus sudeliotas atitinkamas vertes.\n",
    "        for string in lines:                        #7.Is likusio lines saraso istriname pirma ir kas 11 elementa ( Lm=.. nereikalingas mums)\n",
    "             if 'SCALE' in string:                  #8. like lines saraso elementai yra visos koordinates, kadangi kiekvienu kiekvienam objektui yra tik po 10.\n",
    "                scale.append(string)                # Galim gudriai\"koor=lines[(10*ID):(10*ID+10)]\" komanda pagal argumenta id nurodyti kuriu koordinaciu mums reikia.\n",
    "                lines.remove(string)                #9.Printinam reikalingus duomenis indexuojant reikiamus elementus IMAGE,SCALE ir ID sarasuose ir printindami koordinates.\n",
    "        for string in lines:                        #10. Rezultatas - Valio !!\n",
    "             if 'ID' in string:                     # PROBLEMOS - negalima sita funkcija nurodyti slico su pvz[1:2] tik tikslius id kaip 2 , 4, 0. Deja kitaip neveikia.\n",
    "                iD.append(string)                   # PROBLEMA - NEPADARIAU DVIDIMENSIONIO LISTO IS KOORDINACIU. GALIMA PADARYTI SU NUMPY ARBA FOR CIKLU\n",
    "                lines.remove(string)\n",
    "        del lines[::11]\n",
    "        koor=lines[(10*ID):(10*ID+10)]\n",
    "        #numpy.reshape(koor,(2,5))\n",
    "        print(image[ID],scale[ID],iD[ID],koor)\n",
    "        #VEIKIA !!!!!!!!!\n",
    "    \n",
    "        "
   ]
  },
  {
   "cell_type": "code",
   "execution_count": 7,
   "id": "801009f0",
   "metadata": {},
   "outputs": [],
   "source": [
    "def funD(pav,ID):\n",
    "    #import numpy - Cia nenaudotas tik del komentaro apie reshape.\n",
    "    with open(pav, \"r\") as failas:                  #1.Atidarau norimo skenuoti faila, \"r\"-read formatu\n",
    "        lines =([row.rstrip() for row in failas])   #2.Naudodamas .rstrip funkcija !atsargai! - pasalinu visus tarpus ir kitokius \"trailing characters\"\n",
    "        image=[]                                    # kiekvienai atidaryto failo duomenu eiluteje ir padarau is tu duomenu sarasa - lines.\n",
    "        scale=[]                                    #3.Sukuriu tris tuscius image,scale ir id sarasus i kuriuos rusiuosime gaunamas vertes skenuojant atidaryta dokumenta.\n",
    "        iD=[]                                       #!!!! Labai daug laiko prasikankinau bandydamas istraukt siuos sarasus is for / nested if loopu -- labai svarbu sukurtu kintamaji bendram kodui ne ju viduje.\n",
    "        for string in lines:                        #4.Kiekviename lines saraso stringe ieskome reikiamu string verciu: rade tinkama kodo dali su funkcija append()\n",
    "             if 'IMAGE' in string:                  # papildome visa ta eilute atitinkama sarasa(siuo atveju image=[]) ir po to istriname ta visa eilute is lines saraso.                                             \n",
    "                image.append(string)                #5. Pakartojame ketvirta zingsni su \"IMAGE\",\"SCALE\" ir \"ID\".\n",
    "                lines.remove(string)                #6.Pabaigoje siu ciklu turime turet visa dokumenta nuskenuota ir atitinkamus sarasus sudeliotas atitinkamas vertes.\n",
    "        for string in lines:                        #7.Is likusio lines saraso istriname pirma ir kas 11 elementa ( Lm=.. nereikalingas mums)\n",
    "             if 'SCALE' in string:                  #8. like lines saraso elementai yra visos koordinates, kadangi kiekvienu kiekvienam objektui yra tik po 10.\n",
    "                scale.append(string)                # Galim gudriai\"koor=lines[(10*ID):(10*ID+10)]\" komanda pagal argumenta id nurodyti kuriu koordinaciu mums reikia.\n",
    "                lines.remove(string)                #9.Printinam reikalingus duomenis indexuojant reikiamus elementus IMAGE,SCALE ir ID sarasuose ir printindami koordinates.\n",
    "        for string in lines:                        #10. Rezultatas - Valio !!\n",
    "             if 'ID' in string:                     # PROBLEMOS - negalima sita funkcija nurodyti slico su pvz[1:2] tik tikslius id kaip 2 , 4, 0. Deja kitaip neveikia.\n",
    "                iD.append(string)                   # PROBLEMA - NEPADARIAU DVIDIMENSIONIO LISTO IS KOORDINACIU. GALIMA PADARYTI SU NUMPY ARBA FOR CIKLU\n",
    "                lines.remove(string)\n",
    "        del lines[::11]\n",
    "        koor=lines[(10*ID):(10*ID+10)]\n",
    "        #numpy.reshape(koor,(2,5))\n",
    "        print(image[ID],scale[ID],iD[ID],koor)\n",
    "        #VEIKIA !!!!!!!!!\n",
    "    "
   ]
  },
  {
   "cell_type": "code",
   "execution_count": 2,
   "id": "f3f811bd",
   "metadata": {},
   "outputs": [
    {
     "name": "stdout",
     "output_type": "stream",
     "text": [
      "IMAGE=DIPcom61_d_1.jpg SCALE=0.000907 ID=0 ['1115.00000 472.00000', '1178.00000 472.00000', '1156.00000 620.00000', '1063.00000 628.00000', '1123.00000 628.00000', '1066.00000 725.00000', '1187.00000 598.00000', '1248.00000 597.00000', '1250.00000 694.00000', '1147.00000 796.00000']\n"
     ]
    }
   ],
   "source": [
    "funD(\"coords1.txt\",0)"
   ]
  },
  {
   "cell_type": "code",
   "execution_count": null,
   "id": "62f0fd0e-8883-4e9a-ae91-d0bf3e682cae",
   "metadata": {},
   "outputs": [],
   "source": []
  },
  {
   "cell_type": "markdown",
   "id": "2d1c1d3d",
   "metadata": {},
   "source": [
    "---\n",
    ">> **4. UŽDUOTIS**\n",
    ">>\n",
    ">> Parašykite programą kuri automatiškai sukurtų jūsų projektų direktorijų medį ir jame esančius startinius failus.\n",
    ">>\n",
    ">> Minimalus veikimas:\n",
    ">>\n",
    ">> - norime sukurti nauja projektą. pvz kursinis\n",
    ">> - rašome <funkcijos_pavadinimas(\"kursinis\")>\n",
    ">> - funkcija sukuria:\n",
    ">>   - Bent 4 direktorijos\n",
    ">>   - README.txt ar README.md failą kuriame yra įrašytas jūsų vardas\n",
    ">>   - Data direktoriją ir į ją nukopijuoja ventralinės pusės coordsX.txt failus (kurių tekste IMAGE kintamasis turi \\_v\\_ o ne \\_d\\_ IMAGE=DIPzeiN1_v_2.jpg o ne DIPzeiN1_d_2.jpg)\n",
    ">>  - Results direktoriją ir joje sukurtų result_coordsX.txt failus kurių viduje išsaugotų atitinkamo coordsX.txt failo skaitmenų ir raidžių skaičių\n",
    "\n",
    "---"
   ]
  },
  {
   "cell_type": "code",
   "execution_count": 9,
   "id": "5fb43b44",
   "metadata": {},
   "outputs": [],
   "source": [
    "def funkcija(kursinis): # 1.Importuoju os ir shutil\n",
    "    import os           \n",
    "    import shutil\n",
    "    home_dir = os.getcwd() #2. gaunam dabartine dirbancia direktorija\n",
    "    pavadinimas=str(kursinis)#3. paverciam funkcijos argumenta i stringa, kad galetume lengvai sukurti nauja direktorija su tuo vardu.\n",
    "    pilnas = str(os.path.join(home_dir, pavadinimas))#4. su os.path.join methodu sujungiame ir sukuriame nauja direktorija su musu projekto pavadinimu.\n",
    "    dire= os.makedirs(str(pilnas+\"\\README\\DATA\\RESULTS\"), exist_ok=True) #5.Sukuriam visa direktorija ant virsaus su kita os funkcija vien del variacijos.\n",
    "    os.system(f\"mkdir {dire}\") #6. sita komanda patvirtina sukurima pries tai apibudintos direktorijos.\n",
    "    os.chdir(r\"C:\\Users\\taura\\Documents\\biod2022\\exam\\K1\\kvapas\\README\")# AS SAMONINGAI SUKURIAU README FAILA README dokumentui, man taip atrode tvarkingiau.\n",
    "    with open(\"readme.txt\", 'w') as f:#7. pakeiciame dabartine direktorija su os.chdir ir README folderi sukuriame text faila readme.txt ir jame irasome Varda.\n",
    "       f.write('Tauras Radzevicius')  #8 Zemiau esanti funkcija perkelia coords failus i musu naujos direktorijos DATA faila.\n",
    "    shutil.move(r\"C:\\Users\\taura\\Documents\\biod2022\\exam\\K1\\coords1.txt\", r\"C:\\Users\\taura\\Documents\\biod2022\\exam\\K1\\kvapas\\README\\DATA\\coords1.txt\")\n",
    "    shutil.move(r\"C:\\Users\\taura\\Documents\\biod2022\\exam\\K1\\coords2.txt\", r\"C:\\Users\\taura\\Documents\\biod2022\\exam\\K1\\kvapas\\README\\DATA\\coords2.txt\")\n",
    "    shutil.move(r\"C:\\Users\\taura\\Documents\\biod2022\\exam\\K1\\coords3.txt\", r\"C:\\Users\\taura\\Documents\\biod2022\\exam\\K1\\kvapas\\README\\DATA\\coords3.txt\")\n",
    "    shutil.move(r\"C:\\Users\\taura\\Documents\\biod2022\\exam\\K1\\coords4.txt\", r\"C:\\Users\\taura\\Documents\\biod2022\\exam\\K1\\kvapas\\README\\DATA\\coords4.txt\")\n",
    "    #PROBLEMOS - Nepabaigta funkcija ir prigamino neapsakomai daug siuksliniu failu ir direktoriju kompiuteryje:\"kvapas\",\"projektas\",\"Tauro\",\"Bauro\", sarasas labai ilgas ir as gailiuosi kad nenaudojau vieno argumento visada."
   ]
  },
  {
   "cell_type": "code",
   "execution_count": 12,
   "id": "d7ae8265",
   "metadata": {},
   "outputs": [
    {
     "ename": "FileNotFoundError",
     "evalue": "[Errno 2] No such file or directory: 'C:\\\\Users\\\\taura\\\\Documents\\\\biod2022\\\\exam\\\\K1\\\\coords1.txt'",
     "output_type": "error",
     "traceback": [
      "\u001b[1;31m---------------------------------------------------------------------------\u001b[0m",
      "\u001b[1;31mFileNotFoundError\u001b[0m                         Traceback (most recent call last)",
      "File \u001b[1;32m~\\anaconda3\\lib\\shutil.py:823\u001b[0m, in \u001b[0;36mmove\u001b[1;34m(src, dst, copy_function)\u001b[0m\n\u001b[0;32m    822\u001b[0m \u001b[38;5;28;01mtry\u001b[39;00m:\n\u001b[1;32m--> 823\u001b[0m     \u001b[43mos\u001b[49m\u001b[38;5;241;43m.\u001b[39;49m\u001b[43mrename\u001b[49m\u001b[43m(\u001b[49m\u001b[43msrc\u001b[49m\u001b[43m,\u001b[49m\u001b[43m \u001b[49m\u001b[43mreal_dst\u001b[49m\u001b[43m)\u001b[49m\n\u001b[0;32m    824\u001b[0m \u001b[38;5;28;01mexcept\u001b[39;00m \u001b[38;5;167;01mOSError\u001b[39;00m:\n",
      "\u001b[1;31mFileNotFoundError\u001b[0m: [WinError 2] The system cannot find the file specified: 'C:\\\\Users\\\\taura\\\\Documents\\\\biod2022\\\\exam\\\\K1\\\\coords1.txt' -> 'C:\\\\Users\\\\taura\\\\Documents\\\\biod2022\\\\exam\\\\K1\\\\kvapas\\\\README\\\\DATA\\\\coords1.txt'",
      "\nDuring handling of the above exception, another exception occurred:\n",
      "\u001b[1;31mFileNotFoundError\u001b[0m                         Traceback (most recent call last)",
      "Input \u001b[1;32mIn [12]\u001b[0m, in \u001b[0;36m<cell line: 1>\u001b[1;34m()\u001b[0m\n\u001b[1;32m----> 1\u001b[0m \u001b[43mfunkcija\u001b[49m\u001b[43m(\u001b[49m\u001b[38;5;124;43m\"\u001b[39;49m\u001b[38;5;124;43mnaujas\u001b[39;49m\u001b[38;5;124;43m\"\u001b[39;49m\u001b[43m)\u001b[49m\n",
      "Input \u001b[1;32mIn [11]\u001b[0m, in \u001b[0;36mfunkcija\u001b[1;34m(kursinis)\u001b[0m\n\u001b[0;32m     10\u001b[0m \u001b[38;5;28;01mwith\u001b[39;00m \u001b[38;5;28mopen\u001b[39m(\u001b[38;5;124m\"\u001b[39m\u001b[38;5;124mreadme.txt\u001b[39m\u001b[38;5;124m\"\u001b[39m, \u001b[38;5;124m'\u001b[39m\u001b[38;5;124mw\u001b[39m\u001b[38;5;124m'\u001b[39m) \u001b[38;5;28;01mas\u001b[39;00m f:\u001b[38;5;66;03m#7. pakeiciame dabartine direktorija su os.chdir ir README folderi sukuriame text faila readme.txt ir jame irasome Varda.\u001b[39;00m\n\u001b[0;32m     11\u001b[0m    f\u001b[38;5;241m.\u001b[39mwrite(\u001b[38;5;124m'\u001b[39m\u001b[38;5;124mTauras Radzevicius\u001b[39m\u001b[38;5;124m'\u001b[39m)  \u001b[38;5;66;03m#8 Zemiau esanti funkcija perkelia coords failus i musu naujos direktorijos DATA faila.\u001b[39;00m\n\u001b[1;32m---> 12\u001b[0m \u001b[43mshutil\u001b[49m\u001b[38;5;241;43m.\u001b[39;49m\u001b[43mmove\u001b[49m\u001b[43m(\u001b[49m\u001b[38;5;124;43mr\u001b[39;49m\u001b[38;5;124;43m\"\u001b[39;49m\u001b[38;5;124;43mC:\u001b[39;49m\u001b[38;5;124;43m\\\u001b[39;49m\u001b[38;5;124;43mUsers\u001b[39;49m\u001b[38;5;124;43m\\\u001b[39;49m\u001b[38;5;124;43mtaura\u001b[39;49m\u001b[38;5;124;43m\\\u001b[39;49m\u001b[38;5;124;43mDocuments\u001b[39;49m\u001b[38;5;124;43m\\\u001b[39;49m\u001b[38;5;124;43mbiod2022\u001b[39;49m\u001b[38;5;124;43m\\\u001b[39;49m\u001b[38;5;124;43mexam\u001b[39;49m\u001b[38;5;124;43m\\\u001b[39;49m\u001b[38;5;124;43mK1\u001b[39;49m\u001b[38;5;124;43m\\\u001b[39;49m\u001b[38;5;124;43mcoords1.txt\u001b[39;49m\u001b[38;5;124;43m\"\u001b[39;49m\u001b[43m,\u001b[49m\u001b[43m \u001b[49m\u001b[38;5;124;43mr\u001b[39;49m\u001b[38;5;124;43m\"\u001b[39;49m\u001b[38;5;124;43mC:\u001b[39;49m\u001b[38;5;124;43m\\\u001b[39;49m\u001b[38;5;124;43mUsers\u001b[39;49m\u001b[38;5;124;43m\\\u001b[39;49m\u001b[38;5;124;43mtaura\u001b[39;49m\u001b[38;5;124;43m\\\u001b[39;49m\u001b[38;5;124;43mDocuments\u001b[39;49m\u001b[38;5;124;43m\\\u001b[39;49m\u001b[38;5;124;43mbiod2022\u001b[39;49m\u001b[38;5;124;43m\\\u001b[39;49m\u001b[38;5;124;43mexam\u001b[39;49m\u001b[38;5;124;43m\\\u001b[39;49m\u001b[38;5;124;43mK1\u001b[39;49m\u001b[38;5;124;43m\\\u001b[39;49m\u001b[38;5;124;43mkvapas\u001b[39;49m\u001b[38;5;124;43m\\\u001b[39;49m\u001b[38;5;124;43mREADME\u001b[39;49m\u001b[38;5;124;43m\\\u001b[39;49m\u001b[38;5;124;43mDATA\u001b[39;49m\u001b[38;5;124;43m\\\u001b[39;49m\u001b[38;5;124;43mcoords1.txt\u001b[39;49m\u001b[38;5;124;43m\"\u001b[39;49m\u001b[43m)\u001b[49m\n\u001b[0;32m     13\u001b[0m shutil\u001b[38;5;241m.\u001b[39mmove(\u001b[38;5;124mr\u001b[39m\u001b[38;5;124m\"\u001b[39m\u001b[38;5;124mC:\u001b[39m\u001b[38;5;124m\\\u001b[39m\u001b[38;5;124mUsers\u001b[39m\u001b[38;5;124m\\\u001b[39m\u001b[38;5;124mtaura\u001b[39m\u001b[38;5;124m\\\u001b[39m\u001b[38;5;124mDocuments\u001b[39m\u001b[38;5;124m\\\u001b[39m\u001b[38;5;124mbiod2022\u001b[39m\u001b[38;5;124m\\\u001b[39m\u001b[38;5;124mexam\u001b[39m\u001b[38;5;124m\\\u001b[39m\u001b[38;5;124mK1\u001b[39m\u001b[38;5;124m\\\u001b[39m\u001b[38;5;124mcoords2.txt\u001b[39m\u001b[38;5;124m\"\u001b[39m, \u001b[38;5;124mr\u001b[39m\u001b[38;5;124m\"\u001b[39m\u001b[38;5;124mC:\u001b[39m\u001b[38;5;124m\\\u001b[39m\u001b[38;5;124mUsers\u001b[39m\u001b[38;5;124m\\\u001b[39m\u001b[38;5;124mtaura\u001b[39m\u001b[38;5;124m\\\u001b[39m\u001b[38;5;124mDocuments\u001b[39m\u001b[38;5;124m\\\u001b[39m\u001b[38;5;124mbiod2022\u001b[39m\u001b[38;5;124m\\\u001b[39m\u001b[38;5;124mexam\u001b[39m\u001b[38;5;124m\\\u001b[39m\u001b[38;5;124mK1\u001b[39m\u001b[38;5;124m\\\u001b[39m\u001b[38;5;124mkvapas\u001b[39m\u001b[38;5;124m\\\u001b[39m\u001b[38;5;124mREADME\u001b[39m\u001b[38;5;124m\\\u001b[39m\u001b[38;5;124mDATA\u001b[39m\u001b[38;5;124m\\\u001b[39m\u001b[38;5;124mcoords2.txt\u001b[39m\u001b[38;5;124m\"\u001b[39m)\n\u001b[0;32m     14\u001b[0m shutil\u001b[38;5;241m.\u001b[39mmove(\u001b[38;5;124mr\u001b[39m\u001b[38;5;124m\"\u001b[39m\u001b[38;5;124mC:\u001b[39m\u001b[38;5;124m\\\u001b[39m\u001b[38;5;124mUsers\u001b[39m\u001b[38;5;124m\\\u001b[39m\u001b[38;5;124mtaura\u001b[39m\u001b[38;5;124m\\\u001b[39m\u001b[38;5;124mDocuments\u001b[39m\u001b[38;5;124m\\\u001b[39m\u001b[38;5;124mbiod2022\u001b[39m\u001b[38;5;124m\\\u001b[39m\u001b[38;5;124mexam\u001b[39m\u001b[38;5;124m\\\u001b[39m\u001b[38;5;124mK1\u001b[39m\u001b[38;5;124m\\\u001b[39m\u001b[38;5;124mcoords3.txt\u001b[39m\u001b[38;5;124m\"\u001b[39m, \u001b[38;5;124mr\u001b[39m\u001b[38;5;124m\"\u001b[39m\u001b[38;5;124mC:\u001b[39m\u001b[38;5;124m\\\u001b[39m\u001b[38;5;124mUsers\u001b[39m\u001b[38;5;124m\\\u001b[39m\u001b[38;5;124mtaura\u001b[39m\u001b[38;5;124m\\\u001b[39m\u001b[38;5;124mDocuments\u001b[39m\u001b[38;5;124m\\\u001b[39m\u001b[38;5;124mbiod2022\u001b[39m\u001b[38;5;124m\\\u001b[39m\u001b[38;5;124mexam\u001b[39m\u001b[38;5;124m\\\u001b[39m\u001b[38;5;124mK1\u001b[39m\u001b[38;5;124m\\\u001b[39m\u001b[38;5;124mkvapas\u001b[39m\u001b[38;5;124m\\\u001b[39m\u001b[38;5;124mREADME\u001b[39m\u001b[38;5;124m\\\u001b[39m\u001b[38;5;124mDATA\u001b[39m\u001b[38;5;124m\\\u001b[39m\u001b[38;5;124mcoords3.txt\u001b[39m\u001b[38;5;124m\"\u001b[39m)\n",
      "File \u001b[1;32m~\\anaconda3\\lib\\shutil.py:843\u001b[0m, in \u001b[0;36mmove\u001b[1;34m(src, dst, copy_function)\u001b[0m\n\u001b[0;32m    841\u001b[0m         rmtree(src)\n\u001b[0;32m    842\u001b[0m     \u001b[38;5;28;01melse\u001b[39;00m:\n\u001b[1;32m--> 843\u001b[0m         \u001b[43mcopy_function\u001b[49m\u001b[43m(\u001b[49m\u001b[43msrc\u001b[49m\u001b[43m,\u001b[49m\u001b[43m \u001b[49m\u001b[43mreal_dst\u001b[49m\u001b[43m)\u001b[49m\n\u001b[0;32m    844\u001b[0m         os\u001b[38;5;241m.\u001b[39munlink(src)\n\u001b[0;32m    845\u001b[0m \u001b[38;5;28;01mreturn\u001b[39;00m real_dst\n",
      "File \u001b[1;32m~\\anaconda3\\lib\\shutil.py:444\u001b[0m, in \u001b[0;36mcopy2\u001b[1;34m(src, dst, follow_symlinks)\u001b[0m\n\u001b[0;32m    442\u001b[0m \u001b[38;5;28;01mif\u001b[39;00m os\u001b[38;5;241m.\u001b[39mpath\u001b[38;5;241m.\u001b[39misdir(dst):\n\u001b[0;32m    443\u001b[0m     dst \u001b[38;5;241m=\u001b[39m os\u001b[38;5;241m.\u001b[39mpath\u001b[38;5;241m.\u001b[39mjoin(dst, os\u001b[38;5;241m.\u001b[39mpath\u001b[38;5;241m.\u001b[39mbasename(src))\n\u001b[1;32m--> 444\u001b[0m \u001b[43mcopyfile\u001b[49m\u001b[43m(\u001b[49m\u001b[43msrc\u001b[49m\u001b[43m,\u001b[49m\u001b[43m \u001b[49m\u001b[43mdst\u001b[49m\u001b[43m,\u001b[49m\u001b[43m \u001b[49m\u001b[43mfollow_symlinks\u001b[49m\u001b[38;5;241;43m=\u001b[39;49m\u001b[43mfollow_symlinks\u001b[49m\u001b[43m)\u001b[49m\n\u001b[0;32m    445\u001b[0m copystat(src, dst, follow_symlinks\u001b[38;5;241m=\u001b[39mfollow_symlinks)\n\u001b[0;32m    446\u001b[0m \u001b[38;5;28;01mreturn\u001b[39;00m dst\n",
      "File \u001b[1;32m~\\anaconda3\\lib\\shutil.py:264\u001b[0m, in \u001b[0;36mcopyfile\u001b[1;34m(src, dst, follow_symlinks)\u001b[0m\n\u001b[0;32m    262\u001b[0m     os\u001b[38;5;241m.\u001b[39msymlink(os\u001b[38;5;241m.\u001b[39mreadlink(src), dst)\n\u001b[0;32m    263\u001b[0m \u001b[38;5;28;01melse\u001b[39;00m:\n\u001b[1;32m--> 264\u001b[0m     \u001b[38;5;28;01mwith\u001b[39;00m \u001b[38;5;28;43mopen\u001b[39;49m\u001b[43m(\u001b[49m\u001b[43msrc\u001b[49m\u001b[43m,\u001b[49m\u001b[43m \u001b[49m\u001b[38;5;124;43m'\u001b[39;49m\u001b[38;5;124;43mrb\u001b[39;49m\u001b[38;5;124;43m'\u001b[39;49m\u001b[43m)\u001b[49m \u001b[38;5;28;01mas\u001b[39;00m fsrc:\n\u001b[0;32m    265\u001b[0m         \u001b[38;5;28;01mtry\u001b[39;00m:\n\u001b[0;32m    266\u001b[0m             \u001b[38;5;28;01mwith\u001b[39;00m \u001b[38;5;28mopen\u001b[39m(dst, \u001b[38;5;124m'\u001b[39m\u001b[38;5;124mwb\u001b[39m\u001b[38;5;124m'\u001b[39m) \u001b[38;5;28;01mas\u001b[39;00m fdst:\n\u001b[0;32m    267\u001b[0m                 \u001b[38;5;66;03m# macOS\u001b[39;00m\n",
      "\u001b[1;31mFileNotFoundError\u001b[0m: [Errno 2] No such file or directory: 'C:\\\\Users\\\\taura\\\\Documents\\\\biod2022\\\\exam\\\\K1\\\\coords1.txt'"
     ]
    }
   ],
   "source": [
    "funkcija(\"naujas\")"
   ]
  },
  {
   "cell_type": "code",
   "execution_count": 11,
   "id": "1782a7f4-b7fa-4b9b-a49f-9ad5f2b3bffc",
   "metadata": {
    "tags": []
   },
   "outputs": [],
   "source": [
    "def funkcija(kursinis): # 1.Importuoju os ir shutil\n",
    "    import os           \n",
    "    import shutil\n",
    "    home_dir = os.getcwd() #2. gaunam dabartine dirbancia direktorija\n",
    "    pavadinimas=str(kursinis)#3. paverciam funkcijos argumenta i stringa, kad galetume lengvai sukurti nauja direktorija su tuo vardu.\n",
    "    pilnas = str(os.path.join(home_dir, pavadinimas))#4. su os.path.join methodu sujungiame ir sukuriame nauja direktorija su musu projekto pavadinimu.\n",
    "    dire= os.makedirs(str(pilnas+\"\\README\\DATA\\RESULTS\"), exist_ok=True) #5.Sukuriam visa direktorija ant virsaus su kita os funkcija vien del variacijos.\n",
    "    os.system(f\"mkdir {dire}\") #6. sita komanda patvirtina sukurima pries tai apibudintos direktorijos.\n",
    "    os.chdir(r\"C:\\Users\\taura\\Documents\\biod2022\\exam\\K1\\kvapas\\README\")# AS SAMONINGAI SUKURIAU README FAILA README dokumentui, man taip atrode tvarkingiau.\n",
    "    with open(\"readme.txt\", 'w') as f:#7. pakeiciame dabartine direktorija su os.chdir ir README folderi sukuriame text faila readme.txt ir jame irasome Varda.\n",
    "       f.write('Tauras Radzevicius')  #8 Zemiau esanti funkcija perkelia coords failus i musu naujos direktorijos DATA faila.\n",
    "    shutil.move(r\"C:\\Users\\taura\\Documents\\biod2022\\exam\\K1\\coords1.txt\", r\"C:\\Users\\taura\\Documents\\biod2022\\exam\\K1\\kvapas\\README\\DATA\\coords1.txt\")\n",
    "    shutil.move(r\"C:\\Users\\taura\\Documents\\biod2022\\exam\\K1\\coords2.txt\", r\"C:\\Users\\taura\\Documents\\biod2022\\exam\\K1\\kvapas\\README\\DATA\\coords2.txt\")\n",
    "    shutil.move(r\"C:\\Users\\taura\\Documents\\biod2022\\exam\\K1\\coords3.txt\", r\"C:\\Users\\taura\\Documents\\biod2022\\exam\\K1\\kvapas\\README\\DATA\\coords3.txt\")\n",
    "    shutil.move(r\"C:\\Users\\taura\\Documents\\biod2022\\exam\\K1\\coords4.txt\", r\"C:\\Users\\taura\\Documents\\biod2022\\exam\\K1\\kvapas\\README\\DATA\\coords4.txt\")\n",
    "    #PROBLEMOS - Nepabaigta funkcija ir prigamino neapsakomai daug siuksliniu failu ir direktoriju kompiuteryje:\"kvapas\",\"projektas\",\"Tauro\",\"Bauro\", sarasas labai ilgas ir as gailiuosi kad nenaudojau vieno argumento visada."
   ]
  },
  {
   "cell_type": "code",
   "execution_count": 2,
   "id": "c22caeed-d26b-47bc-a5e8-f2a152c05b1d",
   "metadata": {},
   "outputs": [
    {
     "name": "stdout",
     "output_type": "stream",
     "text": [
      "C:\\Users\\taura\\Documents\\biod2022\\exam\\K1\n",
      "C:\\Users\\taura\\Documents\\biod2022\\exam\\K1\\kvapas\n",
      "['/c/Users/taura/Documents/biod2022/exam/K1']\n"
     ]
    }
   ],
   "source": []
  },
  {
   "cell_type": "code",
   "execution_count": 17,
   "id": "150486a8-0d4a-4382-a8e6-f1c4bee2310c",
   "metadata": {},
   "outputs": [],
   "source": []
  },
  {
   "cell_type": "code",
   "execution_count": 8,
   "id": "0c2fa916-d35b-4672-935e-c4375ab1a49b",
   "metadata": {},
   "outputs": [
    {
     "name": "stdout",
     "output_type": "stream",
     "text": [
      "C:\\Users\\taura\\Documents\\biod2022\\exam\\K1\\projektas2\n",
      "C:\\README\n",
      "['/c/Users/taura/Documents/biod2022/exam/K1/projektas2']\n"
     ]
    }
   ],
   "source": []
  },
  {
   "cell_type": "code",
   "execution_count": null,
   "id": "ea9978d6-0fdb-40f4-9f47-7c48fbc770f3",
   "metadata": {},
   "outputs": [],
   "source": []
  }
 ],
 "metadata": {
  "jupytext": {
   "cell_metadata_filter": "-all",
   "encoding": "# -*- coding: utf-8 -*-",
   "formats": "ipynb,py:light,md:myst",
   "main_language": "python"
  },
  "kernelspec": {
   "display_name": "Python 3 (ipykernel)",
   "language": "python",
   "name": "python3"
  },
  "language_info": {
   "codemirror_mode": {
    "name": "ipython",
    "version": 3
   },
   "file_extension": ".py",
   "mimetype": "text/x-python",
   "name": "python",
   "nbconvert_exporter": "python",
   "pygments_lexer": "ipython3",
   "version": "3.9.12"
  }
 },
 "nbformat": 4,
 "nbformat_minor": 5
}
